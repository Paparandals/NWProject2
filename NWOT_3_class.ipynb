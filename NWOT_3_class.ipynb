{
  "nbformat": 4,
  "nbformat_minor": 0,
  "metadata": {
    "colab": {
      "provenance": [],
      "authorship_tag": "ABX9TyN7L3g1X6ruxtdaC83NR9bU",
      "include_colab_link": true
    },
    "kernelspec": {
      "name": "python3",
      "display_name": "Python 3"
    },
    "language_info": {
      "name": "python"
    }
  },
  "cells": [
    {
      "cell_type": "markdown",
      "metadata": {
        "id": "view-in-github",
        "colab_type": "text"
      },
      "source": [
        "<a href=\"https://colab.research.google.com/github/Paparandals/NWProject2/blob/main/NWOT_3_class.ipynb\" target=\"_parent\"><img src=\"https://colab.research.google.com/assets/colab-badge.svg\" alt=\"Open In Colab\"/></a>"
      ]
    },
    {
      "cell_type": "code",
      "source": [
        "class Player:\n",
        "    def __init__(self, name, role, group):\n",
        "        self.name = name\n",
        "        self.role = role\n",
        "        self.group = group\n",
        "\n",
        "    def get_name(self):\n",
        "        return self.name\n",
        "\n",
        "    def get_role(self):\n",
        "        return self.role\n",
        "\n",
        "    def get_group(self):\n",
        "        return self.group\n",
        "\n",
        "    def set_name(self, name):\n",
        "        self.name = name\n",
        "\n",
        "    def set_role(self, role):\n",
        "        self.role = role\n",
        "\n",
        "    def set_group(self, group):\n",
        "        self.group = group"
      ],
      "metadata": {
        "id": "yqFSzzyO6guG"
      },
      "execution_count": 6,
      "outputs": []
    },
    {
      "cell_type": "code",
      "execution_count": 7,
      "metadata": {
        "id": "OYuLLHncyZOe"
      },
      "outputs": [],
      "source": [
        "class Group:\n",
        "    def __init__(self, name):\n",
        "        self.name = name\n",
        "        self.players = []\n",
        "\n",
        "    def add_player(self, name, role, group):\n",
        "        self.players.append(name)\n",
        "\n",
        "    def delete_player(self, player_name):\n",
        "        for player in self.players:\n",
        "            if player.get_name() == player_name:\n",
        "                self.players.remove(player)\n",
        "                print(f'Player {player_name} has been removed from group {self.name}')\n",
        "                return\n",
        "        print(f'Player {player_name} not found in team {self.name}')\n",
        "\n",
        "    def view_players(self):\n",
        "        print(f'Players in group {self.name}:')\n",
        "        for player in self.players:\n",
        "            print(f'Player name: {player.get_name()} , role: {player.get_role()}, group: {player.get_group()}')\n"
      ]
    },
    {
      "cell_type": "code",
      "source": [
        "class Groups:\n",
        "      def __init__(self, name):\n",
        "        self.name = name\n",
        "        self.groups = []\n",
        "\n",
        "      def add_group(self, group):\n",
        "        self.groups.append(group)\n",
        "\n",
        "      def delete_group(self, group_name):\n",
        "        for group in self.groups:\n",
        "            if group.get_name() == group_name:\n",
        "                self.groups.remove(group)\n",
        "                print(f'Group {group_name} has been removed from groups {self.name}')\n",
        "                return\n",
        "        print(f'Group {group_name} not found')"
      ],
      "metadata": {
        "id": "rui3HxNJuV9N"
      },
      "execution_count": 8,
      "outputs": []
    },
    {
      "cell_type": "code",
      "source": [
        "# def add_player(name, role, group):\n",
        "#    player = Player(name, role, group)\n",
        "#    if group not in groups:\n",
        "#        groups[group] = Group(group)\n",
        "#    groups[group].add_player(player)\n",
        "#    print(f'Player {name} has been added to group {group}')\n",
        "\n",
        "# def delete_player(name):\n",
        "#    for group, players in groups.items():\n",
        "#        for player in players.players:\n",
        "#            if player.get_name() == name:\n",
        "#                players.players.remove(player)\n",
        "#                print(f'Player {name} has been removed from the group {group}')\n",
        "#                return\n",
        "#    print(f'Player {name} not found')\n",
        "\n",
        "# def view_players():\n",
        "#    for group, players in groups.items():\n",
        "#        print(f'Players in group {group}:')\n",
        "#        for player in players.players:\n",
        "#            print(f'Player name: {player.get_name()} , role: {player.get_role()}, group: {player.get_group()}')\n",
        "\n",
        "# def delete_group(group_name):\n",
        "#    if group_name not in groups:\n",
        "#        print(f'Group {group_name} not found')\n",
        "#        return\n",
        "#    del groups[group_name]\n",
        "#    print(f'Group {group_name} has been removed from the system')"
      ],
      "metadata": {
        "id": "MdrsoVPt8IvS"
      },
      "execution_count": 9,
      "outputs": []
    },
    {
      "cell_type": "code",
      "source": [
        "def main():\n",
        "    while True:\n",
        "        print(\"\"\"\n",
        "        1. Add player\n",
        "        2. View players\n",
        "        3. Delete player\n",
        "        4. Show players in group\n",
        "        5. Delete group\n",
        "        6. Exit\n",
        "        \"\"\")\n",
        "        choice = input(\"Enter your choice : \")\n",
        "        if choice == \"1\":\n",
        "            name = input(\"Enter player name : \")\n",
        "            role = input(\"Enter player role : \")\n",
        "            group = input(\"Enter player group : \")\n",
        "            player = Player(name, role, group)\n",
        "            Group.add_player(player)\n",
        "        elif choice == \"2\":\n",
        "            Group.view_players()\n",
        "        elif choice == \"3\":\n",
        "            name = input(\"Enter player name : \")\n",
        "            Group.delete_player(name)\n",
        "        elif choice == \"4\":\n",
        "            group_name = input(\"Enter group name : \")\n",
        "            Group.view_players(group_name)\n",
        "        elif choice == \"5\":\n",
        "            group_name = input(\"Enter group name to delete: \")\n",
        "            Groups.delete_group(group_name)\n",
        "        elif choice == \"6\":\n",
        "            break\n",
        "        else:\n",
        "            print(\"Invalid choice\")\n",
        "\n",
        "if __name__ == \"__main__\":\n",
        "    main()"
      ],
      "metadata": {
        "colab": {
          "base_uri": "https://localhost:8080/",
          "height": 529
        },
        "id": "QAdkBaLL9Ye9",
        "outputId": "e2fe4d6d-9b4a-4b9c-c58b-9e447af7dedc"
      },
      "execution_count": 10,
      "outputs": [
        {
          "name": "stdout",
          "output_type": "stream",
          "text": [
            "\n",
            "        1. Add player\n",
            "        2. View players\n",
            "        3. Delete player\n",
            "        4. Show players in group\n",
            "        5. Delete group\n",
            "        6. Exit\n",
            "        \n",
            "Enter your choice : 1\n",
            "Enter player name : asd\n",
            "Enter player role : asd\n",
            "Enter player group : A\n"
          ]
        },
        {
          "output_type": "error",
          "ename": "TypeError",
          "evalue": "ignored",
          "traceback": [
            "\u001b[0;31m---------------------------------------------------------------------------\u001b[0m",
            "\u001b[0;31mTypeError\u001b[0m                                 Traceback (most recent call last)",
            "\u001b[0;32m<ipython-input-10-0a50f7145084>\u001b[0m in \u001b[0;36m<module>\u001b[0;34m\u001b[0m\n\u001b[1;32m     33\u001b[0m \u001b[0;34m\u001b[0m\u001b[0m\n\u001b[1;32m     34\u001b[0m \u001b[0;32mif\u001b[0m \u001b[0m__name__\u001b[0m \u001b[0;34m==\u001b[0m \u001b[0;34m\"__main__\"\u001b[0m\u001b[0;34m:\u001b[0m\u001b[0;34m\u001b[0m\u001b[0;34m\u001b[0m\u001b[0m\n\u001b[0;32m---> 35\u001b[0;31m     \u001b[0mmain\u001b[0m\u001b[0;34m(\u001b[0m\u001b[0;34m)\u001b[0m\u001b[0;34m\u001b[0m\u001b[0;34m\u001b[0m\u001b[0m\n\u001b[0m",
            "\u001b[0;32m<ipython-input-10-0a50f7145084>\u001b[0m in \u001b[0;36mmain\u001b[0;34m()\u001b[0m\n\u001b[1;32m     15\u001b[0m             \u001b[0mgroup\u001b[0m \u001b[0;34m=\u001b[0m \u001b[0minput\u001b[0m\u001b[0;34m(\u001b[0m\u001b[0;34m\"Enter player group : \"\u001b[0m\u001b[0;34m)\u001b[0m\u001b[0;34m\u001b[0m\u001b[0;34m\u001b[0m\u001b[0m\n\u001b[1;32m     16\u001b[0m             \u001b[0mplayer\u001b[0m \u001b[0;34m=\u001b[0m \u001b[0mPlayer\u001b[0m\u001b[0;34m(\u001b[0m\u001b[0mname\u001b[0m\u001b[0;34m,\u001b[0m \u001b[0mrole\u001b[0m\u001b[0;34m,\u001b[0m \u001b[0mgroup\u001b[0m\u001b[0;34m)\u001b[0m\u001b[0;34m\u001b[0m\u001b[0;34m\u001b[0m\u001b[0m\n\u001b[0;32m---> 17\u001b[0;31m             \u001b[0mGroup\u001b[0m\u001b[0;34m.\u001b[0m\u001b[0madd_player\u001b[0m\u001b[0;34m(\u001b[0m\u001b[0mplayer\u001b[0m\u001b[0;34m)\u001b[0m\u001b[0;34m\u001b[0m\u001b[0;34m\u001b[0m\u001b[0m\n\u001b[0m\u001b[1;32m     18\u001b[0m         \u001b[0;32melif\u001b[0m \u001b[0mchoice\u001b[0m \u001b[0;34m==\u001b[0m \u001b[0;34m\"2\"\u001b[0m\u001b[0;34m:\u001b[0m\u001b[0;34m\u001b[0m\u001b[0;34m\u001b[0m\u001b[0m\n\u001b[1;32m     19\u001b[0m             \u001b[0mGroup\u001b[0m\u001b[0;34m.\u001b[0m\u001b[0mview_players\u001b[0m\u001b[0;34m(\u001b[0m\u001b[0;34m)\u001b[0m\u001b[0;34m\u001b[0m\u001b[0;34m\u001b[0m\u001b[0m\n",
            "\u001b[0;31mTypeError\u001b[0m: add_player() missing 3 required positional arguments: 'name', 'role', and 'group'"
          ]
        }
      ]
    },
    {
      "cell_type": "code",
      "source": [],
      "metadata": {
        "id": "QL2npEg_eYJo"
      },
      "execution_count": null,
      "outputs": []
    }
  ]
}