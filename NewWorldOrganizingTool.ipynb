{
  "nbformat": 4,
  "nbformat_minor": 0,
  "metadata": {
    "colab": {
      "provenance": [],
      "name": "NewWorldOrganizingTool.ipynb",
      "authorship_tag": "ABX9TyNhZaP/pzgup62VWQVIA4E5",
      "include_colab_link": true
    },
    "kernelspec": {
      "name": "python3",
      "display_name": "Python 3"
    },
    "language_info": {
      "name": "python"
    }
  },
  "cells": [
    {
      "cell_type": "markdown",
      "metadata": {
        "id": "view-in-github",
        "colab_type": "text"
      },
      "source": [
        "<a href=\"https://colab.research.google.com/github/Paparandals/NWProject2/blob/main/NewWorldOrganizingTool.ipynb\" target=\"_parent\"><img src=\"https://colab.research.google.com/assets/colab-badge.svg\" alt=\"Open In Colab\"/></a>"
      ]
    },
    {
      "cell_type": "code",
      "execution_count": null,
      "metadata": {
        "id": "t3icOl8icnMG"
      },
      "outputs": [],
      "source": [
        "import numpy as np\n",
        "import matplotlib as plt"
      ]
    },
    {
      "cell_type": "code",
      "source": [
        "players = []"
      ],
      "metadata": {
        "id": "q31RIAWfuLee"
      },
      "execution_count": null,
      "outputs": []
    },
    {
      "cell_type": "code",
      "source": [
        "class Player:\n",
        "\n",
        "  def __init__(self, name, role, group):\n",
        "    self.name = name\n",
        "    self.role = role\n",
        "    self.group = group\n",
        "    \n",
        "  def get_name(self):\n",
        "    return self.name\n",
        "  def get_role(self):\n",
        "    return self.role\n",
        "  def get_group(self):\n",
        "    return self.group\n",
        "\n",
        "  def set_name(self, name):\n",
        "    self.name = name\n",
        "  def set_role(self, role):\n",
        "    self.role = role\n",
        "  def set_group(self, group):\n",
        "    self.group = group\n",
        "\n",
        "  def add_player(name, role, group):\n",
        "    p = Player(name, role, group)\n",
        "    players.append(p)"
      ],
      "metadata": {
        "id": "G1wp4hS-0VrO"
      },
      "execution_count": null,
      "outputs": []
    },
    {
      "cell_type": "code",
      "source": [
        "class PlayerRegistry:\n",
        "  def __init__(self):\n",
        "      self.players = []  # Initialize an empty list of players\n",
        "\n",
        "  def add_player(self, player):\n",
        "    self.players.append(player)  # Add the player to the list of players\n",
        "\n",
        "  def search_player(self, name):\n",
        "    for player in self.players:\n",
        "      if player.name == name:  # Check if the player's name matches the search query\n",
        "        return player\n",
        "          return None  # Return None if no player is found\n",
        "\n",
        "  def remove_player(chrname):\n",
        "   srch2 = input(\"Search player you want to remove: \")"
      ],
      "metadata": {
        "id": "8AerOxsOEQtw"
      },
      "execution_count": null,
      "outputs": []
    },
    {
      "cell_type": "code",
      "source": [
        "print(\"Hello and welcome to NWPOT!\")\n",
        "print(\"\")\n",
        "print(\"Please select from following:\")\n",
        "print(\"1. Add new player\\n 2. Remove player\\n 3. Edit player\\n 4. Edit group\")"
      ],
      "metadata": {
        "id": "3qSuDaURUh--"
      },
      "execution_count": null,
      "outputs": []
    }
  ]
}