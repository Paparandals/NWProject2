{
  "nbformat": 4,
  "nbformat_minor": 0,
  "metadata": {
    "colab": {
      "provenance": [],
      "name": "NewWorldOrganizingTool.ipynb",
      "authorship_tag": "ABX9TyO1JnRincaZvjXsdyuXFM4c",
      "include_colab_link": true
    },
    "kernelspec": {
      "name": "python3",
      "display_name": "Python 3"
    },
    "language_info": {
      "name": "python"
    }
  },
  "cells": [
    {
      "cell_type": "markdown",
      "metadata": {
        "id": "view-in-github",
        "colab_type": "text"
      },
      "source": [
        "<a href=\"https://colab.research.google.com/github/Paparandals/NWProject2/blob/main/NewWorldOrganizingTool.ipynb\" target=\"_parent\"><img src=\"https://colab.research.google.com/assets/colab-badge.svg\" alt=\"Open In Colab\"/></a>"
      ]
    },
    {
      "cell_type": "code",
      "execution_count": 5,
      "metadata": {
        "id": "t3icOl8icnMG"
      },
      "outputs": [],
      "source": [
        "import numpy as np\n",
        "import matplotlib as plt"
      ]
    },
    {
      "cell_type": "code",
      "source": [
        "class Player:\n",
        "  chrname = \"\"\n",
        "  chrrole = \"\"\n",
        "  chrperks = \"\"\n",
        "  chrwpns = \"\"\n",
        "  chrskills = \"\"\n",
        "  chrgroup = \"\" # Ei välttämättä tarvi tässä\n"
      ],
      "metadata": {
        "id": "G1wp4hS-0VrO"
      },
      "execution_count": 6,
      "outputs": []
    },
    {
      "cell_type": "code",
      "source": [
        "class PlayerRegistry:\n",
        "  def __init__(self):\n",
        "      self.players = []  # Initialize an empty list of players\n",
        "\n",
        "  def add_player(self, player):\n",
        "    self.players.append(player)  # Add the player to the list of players\n",
        "\n",
        "  def search_player(self, name):\n",
        "    for player in self.players:\n",
        "      if player.name == name:  # Check if the player's name matches the search query\n",
        "        return player\n",
        "          return None  # Return None if no player is found\n",
        "\n",
        "  def playeradder(Player):\n",
        "    chrname = input(\"Enter character name: \")\n",
        "    chrrole = input(\"Enter character role: \")\n",
        "    chrperks = input(\"Enter character war perks for armor: \")\n",
        "    chrwpns = input(\"Enter character weapons types: \")\n",
        "    chrskills = input(\"Enter character war skills for weapons: \")\n",
        "    chrgroup = input(\"Enter character group: \") # Ei välttämättä tarvi tässä\n",
        "\n",
        "  def search_player(chrname):\n",
        "    srch = input(\"Search player by name: \")\n",
        "\n",
        "  def remove_player(chrname):\n",
        "   srch2 = input(\"Search player you want to remove: \")"
      ],
      "metadata": {
        "id": "8AerOxsOEQtw",
        "colab": {
          "base_uri": "https://localhost:8080/",
          "height": 130
        },
        "outputId": "e1593601-5260-4675-d908-f895dc220d5a"
      },
      "execution_count": 7,
      "outputs": [
        {
          "output_type": "error",
          "ename": "IndentationError",
          "evalue": "ignored",
          "traceback": [
            "\u001b[0;36m  File \u001b[0;32m\"<ipython-input-7-ea802c065c71>\"\u001b[0;36m, line \u001b[0;32m12\u001b[0m\n\u001b[0;31m    return None  # Return None if no player is found\u001b[0m\n\u001b[0m    ^\u001b[0m\n\u001b[0;31mIndentationError\u001b[0m\u001b[0;31m:\u001b[0m unexpected indent\n"
          ]
        }
      ]
    },
    {
      "cell_type": "code",
      "source": [
        "def printer():\n",
        "  print(Player.chrname)\n",
        "  print(Player.chrrole)\n",
        "  print(Player.chrperks)\n",
        "  print(Player.chrwpns)\n",
        "  print(Player.chrskills)\n",
        "  print(Player.chrgroup)"
      ],
      "metadata": {
        "id": "GXYXo8RIfBcQ"
      },
      "execution_count": null,
      "outputs": []
    },
    {
      "cell_type": "code",
      "source": [
        "def main():\n",
        "\n",
        "  print (\"Terve! Ja heipä hei! Welcome to NW member organizing tool!\")\n",
        "  print(\"\")\n",
        "  start = input(\"Select from following: \\n 1. View/edit player \\n 2. Add new player \\n 3. Show/edit group \\n 4. Add new group \\n\")\n",
        "  if start == \"1\":\n",
        "  elif start == \"2\":\n",
        "  elif start == \"3\":\n",
        "  elif start == \"4\":\n",
        "  else:\n",
        "\n",
        "\n",
        "if __name__ == \"__main__\":\n",
        "      main()"
      ],
      "metadata": {
        "id": "cHGtzyd83nbP",
        "colab": {
          "base_uri": "https://localhost:8080/",
          "height": 130
        },
        "outputId": "ac3ab0a7-80ae-403a-a2d6-ae2cc46d1b10"
      },
      "execution_count": 8,
      "outputs": [
        {
          "output_type": "error",
          "ename": "IndentationError",
          "evalue": "ignored",
          "traceback": [
            "\u001b[0;36m  File \u001b[0;32m\"<ipython-input-8-fddd2e3501d0>\"\u001b[0;36m, line \u001b[0;32m7\u001b[0m\n\u001b[0;31m    elif start == \"2\":\u001b[0m\n\u001b[0m    ^\u001b[0m\n\u001b[0;31mIndentationError\u001b[0m\u001b[0;31m:\u001b[0m expected an indented block\n"
          ]
        }
      ]
    }
  ]
}