{
  "nbformat": 4,
  "nbformat_minor": 0,
  "metadata": {
    "colab": {
      "provenance": [],
      "name": "NewWorldOrganizingTool.ipynb",
      "authorship_tag": "ABX9TyOVAanW64x1qb0/agBYEJG5",
      "include_colab_link": true
    },
    "kernelspec": {
      "name": "python3",
      "display_name": "Python 3"
    },
    "language_info": {
      "name": "python"
    }
  },
  "cells": [
    {
      "cell_type": "markdown",
      "metadata": {
        "id": "view-in-github",
        "colab_type": "text"
      },
      "source": [
        "<a href=\"https://colab.research.google.com/github/Paparandals/NWProject2/blob/main/NewWorldOrganizingTool.ipynb\" target=\"_parent\"><img src=\"https://colab.research.google.com/assets/colab-badge.svg\" alt=\"Open In Colab\"/></a>"
      ]
    },
    {
      "cell_type": "code",
      "execution_count": null,
      "metadata": {
        "id": "t3icOl8icnMG"
      },
      "outputs": [],
      "source": [
        "import numpy as np\n",
        "import matplotlib as plt"
      ]
    },
    {
      "cell_type": "code",
      "source": [
        "players = []\n",
        "groups = {}\n",
        "\n",
        "class Player:\n",
        "\n",
        "  def __init__(self, name, role, group):\n",
        "    self.name = name\n",
        "    self.role = role\n",
        "    self.group = group\n",
        "    \n",
        "  def get_name(self):\n",
        "    return self.name\n",
        "  def get_role(self):\n",
        "    return self.role\n",
        "  def get_group(self):\n",
        "    return self.group\n",
        "\n",
        "  def set_name(self, name):\n",
        "    self.name = name\n",
        "  def set_role(self, role):\n",
        "    self.role = role\n",
        "  def set_group(self, group):\n",
        "    self.group = group\n",
        "\n",
        "  def add_player(name, role, group):\n",
        "    if group not in groups:\n",
        "        groups[group] = []\n",
        "    groups[group].append(p)\n",
        "    print(f'Player {name} has been added to the team {group}')\n",
        "\n",
        "  def view_players():\n",
        "    if not groups:\n",
        "      print('No teams or players in the system')\n",
        "    else:\n",
        "      for group, players in groups.items():\n",
        "        print(f'Group: {group}')\n",
        "          for player in players:\n",
        "            print(f'Player name: {player.get_name()} , age: {player.get_role()}, email: {player.get_group()}')"
      ],
      "metadata": {
        "id": "G1wp4hS-0VrO"
      },
      "execution_count": null,
      "outputs": []
    },
    {
      "cell_type": "code",
      "source": [
        "#class PlayerRegistry:\n",
        "#  def __init__(self):\n",
        "#      self.players = []  # Initialize an empty list of players\n",
        "\n",
        "#  def add_player(self, player):\n",
        "#    self.players.append(player)  # Add the player to the list of players\n",
        "\n",
        "#  def search_player(self, name):\n",
        "#    for player in self.players:\n",
        "#      if player.name == name:  # Check if the player's name matches the search query\n",
        "#        return player\n",
        "#          return None  # Return None if no player is found\n",
        "\n",
        "#  def remove_player(chrname):\n",
        "#   srch2 = input(\"Search player you want to remove: \")"
      ],
      "metadata": {
        "id": "8AerOxsOEQtw"
      },
      "execution_count": null,
      "outputs": []
    },
    {
      "cell_type": "code",
      "source": [
        "def main():\n",
        "  while True:\n",
        "    print(\"\"\"\n",
        "      1. Add player\n",
        "      2. Configure player\n",
        "      3. View player\n",
        "      4. Add group\n",
        "      5. Configure group\n",
        "      6. View group\n",
        "      7. Exit\n",
        "      \"\"\")\n",
        "      selection = input(\"Enter your choice 1-7 : \")\n",
        "      if selection == \"1\":\n",
        "        name = input(\"Enter player name : \")\n",
        "        role = input(\"Enter player role : \"))\n",
        "        group = input(\"Enter player group : \")\n",
        "        add_player(name, role, group)\n",
        "      elif selection == \"2\":\n",
        "        view_players()\n",
        "      elif selection == \"3\":\n",
        "        break\n",
        "      else:\n",
        "        print(\"Invalid choice\")\n",
        "\n",
        "if __name__ == \"__main__\":\n",
        "    main()"
      ],
      "metadata": {
        "id": "3qSuDaURUh--"
      },
      "execution_count": null,
      "outputs": []
    }
  ]
}