{
  "nbformat": 4,
  "nbformat_minor": 0,
  "metadata": {
    "colab": {
      "provenance": [],
      "authorship_tag": "ABX9TyO7+5OSd2RTBMoV+Rf//qej",
      "include_colab_link": true
    },
    "kernelspec": {
      "name": "python3",
      "display_name": "Python 3"
    },
    "language_info": {
      "name": "python"
    }
  },
  "cells": [
    {
      "cell_type": "markdown",
      "metadata": {
        "id": "view-in-github",
        "colab_type": "text"
      },
      "source": [
        "<a href=\"https://colab.research.google.com/github/Paparandals/NWProject2/blob/main/nwproject.ipynb\" target=\"_parent\"><img src=\"https://colab.research.google.com/assets/colab-badge.svg\" alt=\"Open In Colab\"/></a>"
      ]
    },
    {
      "cell_type": "code",
      "execution_count": null,
      "metadata": {
        "id": "t3icOl8icnMG"
      },
      "outputs": [],
      "source": [
        "import numpy as np\n",
        "import matplotlib as plt"
      ]
    },
    {
      "cell_type": "code",
      "source": [
        "class Player:\n",
        "  chrname = \"\"\n",
        "  chrrole = \"\"\n",
        "  chrperks = \"\"\n",
        "  chrwpns = \"\"\n",
        "  chrskills = \"\"\n",
        "  chrgroup = \"\" # Ei välttämättä tarvi tässä\n"
      ],
      "metadata": {
        "id": "G1wp4hS-0VrO"
      },
      "execution_count": null,
      "outputs": []
    },
    {
      "cell_type": "code",
      "source": [
        "class PlayerRegistry:\n",
        "   def __init__(self):\n",
        "      self.players = []  # Initialize an empty list of players\n",
        "\n",
        "  def add_player(self, player):\n",
        "    self.players.append(player)  # Add the player to the list of players\n",
        "\n",
        "  def search_player(self, name):\n",
        "    for player in self.players:\n",
        "      if player.name == name:  # Check if the player's name matches the search query\n",
        "        return player\n",
        "          return None  # Return None if no player is found\n",
        "\n",
        "  def playeradder(Player):\n",
        "    chrname = input(\"Enter character name: \")\n",
        "    chrrole = input(\"Enter character role: \")\n",
        "    chrperks = input(\"Enter character war perks for armor: \")\n",
        "    chrwpns = input(\"Enter character weapons types: \")\n",
        "    chrskills = input(\"Enter character war skills for weapons: \")\n",
        "    chrgroup = input(\"Enter character group: \") # Ei välttämättä tarvi tässä\n",
        "\n",
        "  def search_player(chrname):\n",
        "    srch = input(\"Search player by name: \")\n",
        "\n",
        "  def remove_player(chrname):\n",
        "   srch2 = input(\"Search player you want to remove: \")"
      ],
      "metadata": {
        "id": "8AerOxsOEQtw"
      },
      "execution_count": null,
      "outputs": []
    },
    {
      "cell_type": "code",
      "source": [
        "def printer():\n",
        "  print(Player.chrname)\n",
        "  print(Player.chrrole)\n",
        "  print(Player.chrperks)\n",
        "  print(Player.chrwpns)\n",
        "  print(Player.chrskills)\n",
        "  print(Player.chrgroup)"
      ],
      "metadata": {
        "id": "GXYXo8RIfBcQ"
      },
      "execution_count": null,
      "outputs": []
    },
    {
      "cell_type": "code",
      "source": [
        "def main():\n",
        "\n",
        "  print (\"Terve! Ja heipä hei! Welcome to NW member organizing tool!\")\n",
        "  print(\"\")\n",
        "  start = input(\"Select from following: \\n 1. View/edit player \\n 2. Add new player \\n 3. Show/edit group \\n 4. Add new group \\n\")\n",
        "  if start == \"1\":\n",
        "  elif start == \"2\":\n",
        "  elif start == \"3\":\n",
        "  elif start == \"4\":\n",
        "  else:\n",
        "\n",
        "\n",
        "if __name__ == \"__main__\":\n",
        "      main()"
      ],
      "metadata": {
        "id": "cHGtzyd83nbP"
      },
      "execution_count": null,
      "outputs": []
    }
  ]
}