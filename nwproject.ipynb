{
  "nbformat": 4,
  "nbformat_minor": 0,
  "metadata": {
    "colab": {
      "provenance": [],
      "authorship_tag": "ABX9TyPXQqeOOPQNDtBndwsnSLiO",
      "include_colab_link": true
    },
    "kernelspec": {
      "name": "python3",
      "display_name": "Python 3"
    },
    "language_info": {
      "name": "python"
    }
  },
  "cells": [
    {
      "cell_type": "markdown",
      "metadata": {
        "id": "view-in-github",
        "colab_type": "text"
      },
      "source": [
        "<a href=\"https://colab.research.google.com/github/Paparandals/NWProject2/blob/main/nwproject.ipynb\" target=\"_parent\"><img src=\"https://colab.research.google.com/assets/colab-badge.svg\" alt=\"Open In Colab\"/></a>"
      ]
    },
    {
      "cell_type": "code",
      "execution_count": 1,
      "metadata": {
        "id": "t3icOl8icnMG"
      },
      "outputs": [],
      "source": [
        "import numpy as np\n",
        "import matplotlib as plt"
      ]
    },
    {
      "cell_type": "code",
      "source": [
        "class Player:\n",
        "  chrname = \"\"\n",
        "  chrrole = \"\"\n",
        "  chrperks = \"\"\n",
        "  chrwpns = \"\"\n",
        "  chrskills = \"\"\n",
        "  chrgroup = \"\" # Ei välttämättä tarvi tässä\n"
      ],
      "metadata": {
        "id": "G1wp4hS-0VrO"
      },
      "execution_count": 2,
      "outputs": []
    },
    {
      "cell_type": "code",
      "source": [
        "def playeradder():\n",
        "  chrname = input(\"Enter character name: \")\n",
        "  chrrole = input(\"Enter character role: \")\n",
        "  chrperks = input(\"Enter character war perks for armor: \")\n",
        "  chrwpns = input(\"Enter character weapons types: \")\n",
        "  chrskills = input(\"Enter character war skills for weapons: \")\n",
        "  chrgroup = input(\"Enter character group: \") # Ei välttämättä tarvi tässä"
      ],
      "metadata": {
        "id": "gHAZAHudnYX7"
      },
      "execution_count": 3,
      "outputs": []
    },
    {
      "cell_type": "code",
      "source": [
        "def playerchecker():\n",
        "  plrname = input(\"Enter player name: \")\n",
        "  print (printer())"
      ],
      "metadata": {
        "id": "SKAA_n9lpfna"
      },
      "execution_count": 4,
      "outputs": []
    },
    {
      "cell_type": "code",
      "source": [
        "class Group:\n",
        "  player = Player()\n",
        "\n",
        "def groupadder(self):\n",
        "  grpnmb = input(\"Add new group: \")\n",
        "\n",
        "def shwgroup(self):\n",
        "  print(Group)"
      ],
      "metadata": {
        "id": "Uk0_cHkA0Xr3"
      },
      "execution_count": 5,
      "outputs": []
    },
    {
      "cell_type": "code",
      "source": [
        "def printer():\n",
        "  print(Player.chrname)\n",
        "  print(Player.chrrole)\n",
        "  print(Player.chrperks)\n",
        "  print(Player.chrwpns)\n",
        "  print(Player.chrskills)\n",
        "  print(Player.chrgroup)"
      ],
      "metadata": {
        "id": "GXYXo8RIfBcQ"
      },
      "execution_count": 6,
      "outputs": []
    },
    {
      "cell_type": "code",
      "source": [
        "def main():\n",
        "\n",
        "  print (\"Terve! Ja heipä hei! Welcome to NW member organizing tool!\")\n",
        "  print(\"\")\n",
        "  start = input(\"Select from following: \\n 1. View/edit player \\n 2. Add new player \\n 3. Show/edit group \\n 4. Add new group \\n\")\n",
        "  if start == \"1\":\n",
        "    return\n",
        "  elif start == \"2\":\n",
        "    chrname = input(\"Enter character name: \")\n",
        "    chrrole = input(\"Enter character role: \")\n",
        "    chrperks = input(\"Enter character war perks for armor: \")\n",
        "    chrwpns = input(\"Enter character weapons types: \")\n",
        "    chrskills = input(\"Enter character war skills for weapons: \")\n",
        "    chrgroup = input(\"Enter character group: \") # Ei välttämättä tarvi tässä\n",
        "  elif start == \"3\":\n",
        "    Group.shwgroup()\n",
        "  elif start == \"4\":\n",
        "    Group.groupadder()\n",
        "  else:\n",
        "      return start\n",
        "\n",
        "if __name__ == \"__main__\":\n",
        "      main()"
      ],
      "metadata": {
        "id": "cHGtzyd83nbP"
      },
      "execution_count": null,
      "outputs": []
    }
  ]
}