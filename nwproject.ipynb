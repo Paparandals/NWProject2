{
  "nbformat": 4,
  "nbformat_minor": 0,
  "metadata": {
    "colab": {
      "provenance": [],
      "authorship_tag": "ABX9TyPRdVP6jYq260l5xJ0DCLbc",
      "include_colab_link": true
    },
    "kernelspec": {
      "name": "python3",
      "display_name": "Python 3"
    },
    "language_info": {
      "name": "python"
    }
  },
  "cells": [
    {
      "cell_type": "markdown",
      "metadata": {
        "id": "view-in-github",
        "colab_type": "text"
      },
      "source": [
        "<a href=\"https://colab.research.google.com/github/Paparandals/NWProject2/blob/main/nwproject.ipynb\" target=\"_parent\"><img src=\"https://colab.research.google.com/assets/colab-badge.svg\" alt=\"Open In Colab\"/></a>"
      ]
    },
    {
      "cell_type": "code",
      "execution_count": null,
      "metadata": {
        "id": "t3icOl8icnMG"
      },
      "outputs": [],
      "source": [
        "import numpy as np\n",
        "import matplotlib as plt"
      ]
    },
    {
      "cell_type": "code",
      "source": [
        "class Player:\n",
        "  chrname = \"\"\n",
        "  chrrole = \"\"\n",
        "  chrperks = \"\"\n",
        "  chrwpns = \"\"\n",
        "  chrskills = \"\"\n",
        "  chrgroup = \"\" # Ei välttämättä tarvi tässä\n",
        "\n",
        "def playeradder(self):\n",
        "  chrname = input(\"Enter character name: \")\n",
        "  chrrole = input(\"Enter character role: \")\n",
        "  chrperks = input(\"Enter character war perks for armor: \")\n",
        "  chrwpns = input(\"Enter character weapons types: \")\n",
        "  chrskills = input(\"Enter character war skills for weapons: \")\n",
        "  chrgroup = input(\"Enter character group: \") # Ei välttämättä tarvi tässä\n",
        "\n",
        "def chk(self):\n",
        "  plrname = input(\"Enter player name: \")\n",
        "  print (printer())"
      ],
      "metadata": {
        "id": "G1wp4hS-0VrO"
      },
      "execution_count": null,
      "outputs": []
    },
    {
      "cell_type": "code",
      "source": [
        "class Group:\n",
        "  player = Player()\n",
        "\n",
        "def groupadder(self):\n",
        "  grpnmb = input(\"Add new group: \")\n",
        "\n",
        "def shwgroup(self):\n",
        "  print(Group)"
      ],
      "metadata": {
        "id": "Uk0_cHkA0Xr3"
      },
      "execution_count": null,
      "outputs": []
    },
    {
      "cell_type": "code",
      "source": [
        "def printer():\n",
        "  print(Player.chrname)\n",
        "  print(Player.chrrole)\n",
        "  print(Player.chrperks)\n",
        "  print(Player.chrwpns)\n",
        "  print(Player.chrskills)\n",
        "  print(Player.chrgroup)"
      ],
      "metadata": {
        "id": "GXYXo8RIfBcQ"
      },
      "execution_count": null,
      "outputs": []
    },
    {
      "cell_type": "code",
      "source": [
        "def main():\n",
        "\n",
        "  print (\"Terve! Ja heipä hei! Welcome to NW member organizing tool!\")\n",
        "  start = input(\"Select from following: \\n 1. View/edit player \\n 2. Add new player \\n 3. Show/edit group \\n 4. Add new group \\n\")\n",
        "  if start == 1:\n",
        "    Player.print(chk)\n",
        "  elif start == 2:\n",
        "    Player.playeradder()\n",
        "  elif start == 3:\n",
        "    Group.shwgroup()\n",
        "  elif start == 4:\n",
        "    Group.groupadder()\n",
        "  else:\n",
        "      return start\n",
        "\n",
        "if __name__ == \"__main__\":\n",
        "      main()"
      ],
      "metadata": {
        "id": "cHGtzyd83nbP"
      },
      "execution_count": null,
      "outputs": []
    }
  ]
}